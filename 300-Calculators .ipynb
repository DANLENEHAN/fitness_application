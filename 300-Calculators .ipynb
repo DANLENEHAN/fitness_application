{
 "cells": [
  {
   "cell_type": "markdown",
   "metadata": {},
   "source": [
    "# Macro Nutrient Calculator "
   ]
  },
  {
   "cell_type": "markdown",
   "metadata": {},
   "source": [
    "# Purpose \n",
    "The purpose of this notebook is to create a macronutrient calulator. I will research variuos ways/ techniques to calculate macros and use what I've learnt to devise my own calculator."
   ]
  },
  {
   "cell_type": "code",
   "execution_count": 22,
   "metadata": {},
   "outputs": [],
   "source": [
    "import requests\n",
    "import os.path\n",
    "import pandas as pd\n",
    "import numpy as np\n",
    "import matplotlib.pyplot as plt\n",
    "import math\n",
    "%matplotlib inline\n",
    "import datetime\n",
    "import matplotlib.ticker as ticker\n",
    "import matplotlib.dates as mdates\n",
    "import xml.etree.ElementTree as ET\n",
    "from urllib.request import Request, urlopen\n",
    "import json\n",
    "from pandas.io.json import json_normalize\n",
    "import re\n",
    "import nbformat \n",
    "\n",
    "# Using prevoius notebooks \n",
    "import io, os, sys, types\n",
    "from IPython import get_ipython\n",
    "from nbformat import read\n",
    "from IPython.core.interactiveshell import InteractiveShell\n",
    "%run 200-Acess_Database.ipynb"
   ]
  },
  {
   "cell_type": "markdown",
   "metadata": {},
   "source": [
    "# Note\n",
    "Any possible invalid inputs values will have to be address in the application development as the options will most likely be drop down options except for scale facto, height etc. "
   ]
  },
  {
   "cell_type": "markdown",
   "metadata": {},
   "source": [
    "# Calorie Calculator Research \n",
    "\n",
    "** BMR ** <br>\n",
    "Formulas used to calculate the (BMR) basal metabloic rate or calories burnt while resting not including any actvity/ exercise during the day. All formula take into account gender, age, weight. Actvity level/ stress level is used to then calculate total calories required. <br>\n",
    "1) Harris Benedict Formula <br>\n",
    "Study Link : https://www.ncbi.nlm.nih.gov/pubmed/16576330 <bt>\n",
    "This formula is used for calculating the (BMR) or basal/resting metabloic rate of a person. It is the most widely used formula for getting the BMR of a person. Thought to have caluclated pecision of +-14%. The stress/ activity scale can range from 1.2 -> 1.9 under this formula. <br>\n",
    "2) Revised Harris Benedict Formula in 1984 <br> \n",
    "Study Link : https://academic.oup.com/ajcn/article-abstract/40/1/168/4691315?redirectedFrom=fulltext <br>\n",
    "The orginal formula was revised in 1984 and is now thought to be more accurate for caluclating the (BMR) of obese patients then it was prevoiusly. The stress/ activity scale can range from 1.2 -> 1.9 under this formula. <br> \n",
    "3) The Mifflin St JEOR equation <br>\n",
    "Study Link : https://www.ncbi.nlm.nih.gov/pubmed/15883556 <br>\n",
    "Another (BMR) equation dervived in 1990. Thought to have a (BMR) calculation percision of +-10%. The stress/ activity scale can range from 1.2 -> 1.9 under this formula. <br>\n",
    "4) The Schofield Equation <br>\n",
    "Study Link: https://www.ncbi.nlm.nih.gov/pubmed/4044297 <br>\n",
    "The Schofield Equation takes into consideration gender, age, and weight. Height is not required.  The final result is given as a range and is adjusted upward or downward from the calculated value based on the 'standard error of estimated' or SEE (provided by the author).  Individuals that have a much higher lean body mass (reduced body fat), should use the upper end of the range, while individuals with a greater body fat percentage should use the lower end of the range. The stress/ actvitiy level is on a broader scale with more levels of actvity to choose from when compared with the prevoius equations. <br>\n",
    "5) Institute of Medicine - Estimated Energy Requirement (EER) <br>\n",
    "Study reference : https://www.nal.usda.gov/sites/default/files/fnic_uploads/energy_full_report.pdf <br>\n",
    "This formula is used for caluclating (EER) or estimated energy requirement. Which means the caloires required after taking into consideration (BMR) and activity level. <br>\n",
    "\n",
    "** TEF ** <br>\n",
    "The thermic effect of food is the energy required for digestion, absorption, and disposal of ingested nutrients. Accepted avergaes include: Carbohydrates: 5 to 15% of the energy consumed, Protein: 20 to 35% and Fats: at most 5 to 15%. In order to accuratly predict the (BMR) of a person we must subtract this number from our intial (BMR) estimates. <bt>\n",
    "Study Link: https://www.ncbi.nlm.nih.gov/pmc/articles/PMC4816895/ <br>"
   ]
  },
  {
   "cell_type": "markdown",
   "metadata": {},
   "source": [
    "# My formula\n",
    "** BMR **  <br>\n",
    "I'm going to use the average of the first four formuals to get my estimated (BMR). <br>\n",
    "To Get the EER I'll take into account the following factors\n",
    "** TEF ** <br>\n",
    "To get my number for TEF I'll get the halfway the average of the median of the three expected estimates of TEF for the three maronutrietns   Protein, Carbs and Fats. Which is C(10) + P(27.5) + F(10) = 12.5% <br>\n",
    "** Activity Level ** <br>\n",
    "I'll create this later, it will be a scale of activity/ stree that I create based on all the formulas/ studies above. \n",
    "I'll create functions for each one and then get the average of all the outcomes. <br>"
   ]
  },
  {
   "cell_type": "markdown",
   "metadata": {},
   "source": [
    "# Harris Benedict Formula (BMR)"
   ]
  },
  {
   "cell_type": "code",
   "execution_count": 23,
   "metadata": {
    "collapsed": true
   },
   "outputs": [],
   "source": [
    "def HBbmr(height, weight, age, gender, weightMs, heightMs):\n",
    "    \n",
    "    if(heightMs == 'in'):\n",
    "        height = height * 2.54\n",
    "    if(weightMs == 'lbs'):\n",
    "        weight = weight/2.20462\n",
    "    \n",
    "    if(gender == 'm'):\n",
    "        bmr = 66.47+ (13.75 * weight) + ( 5.003 * height) - ( 6.755 * age)\n",
    "    else:\n",
    "        bmr = 655.1 + (9.563 * weight) + (1.850 * height) - (4.676 * age)\n",
    "    \n",
    "    return round(bmr)"
   ]
  },
  {
   "cell_type": "markdown",
   "metadata": {},
   "source": [
    "# Revised Harris Benedict Formula (BMR)"
   ]
  },
  {
   "cell_type": "code",
   "execution_count": 24,
   "metadata": {
    "collapsed": true
   },
   "outputs": [],
   "source": [
    "def RHBbmr(height, weight, age, gender, weightMs, heightMs):\n",
    "    \n",
    "    if(heightMs == 'in'):\n",
    "        height = height * 2.54\n",
    "    if(weightMs == 'lbs'):\n",
    "        weight = weight/2.20462\n",
    "    \n",
    "    if(gender == 'm'):\n",
    "        bmr = 88.362 + (13.397 * weight) + (4.799 * height) - (5.677 * age)\n",
    "    else:\n",
    "        bmr = 447.593 + (9.247 * weight) + (3.098 * height) - (4.330 * age)\n",
    "        \n",
    "    return round(bmr)"
   ]
  },
  {
   "cell_type": "markdown",
   "metadata": {},
   "source": [
    "# The Mifflin St JEOR equation "
   ]
  },
  {
   "cell_type": "code",
   "execution_count": 25,
   "metadata": {
    "collapsed": true
   },
   "outputs": [],
   "source": [
    "def MSJbmr(height, weight, age, gender, weightMs, heightMs):\n",
    "    \n",
    "    if(heightMs == 'in'):\n",
    "        height = height * 2.54\n",
    "    if(weightMs == 'lbs'):\n",
    "        weight = weight/2.20462\n",
    "    \n",
    "    if(gender == 'm'):\n",
    "        bmr =  9.99 * weight + 6.25 * height - 4.92 * age + 5; \n",
    "    else:\n",
    "        bmr = 9.99 * weight + 6.25 * height - 4.92 * age - 161.\n",
    "        \n",
    "    return round(bmr)"
   ]
  },
  {
   "cell_type": "markdown",
   "metadata": {},
   "source": [
    "# The Schofield Equation "
   ]
  },
  {
   "cell_type": "code",
   "execution_count": 26,
   "metadata": {
    "collapsed": true
   },
   "outputs": [],
   "source": [
    "# The Schofield equation gives a 'standard error of estimated' or SEE to be added or subtraction based on body comp and age \n",
    "# It only gives to options either alot of lean bdy mass or not \n",
    "# I'm going to solit this up a bit by offering a low, medium, high, very high option for lean body mass for each age \n",
    "\n",
    "def Sbmr(weight, age, gender, weightMs, muscle):\n",
    "    \n",
    "    # metric check\n",
    "    if(weightMs == 'lbs'):\n",
    "        weight = weight/2.20462\n",
    "    \n",
    "    # Standard Error estimated/ SEE and BMR calculation\n",
    "    \n",
    "    if(gender == 'm'):        \n",
    "        if(age >= 10 and age <= 17):\n",
    "            bmr = 17.686 * (weight) + 658.2 \n",
    "            see = 105\n",
    "        if(age >= 18 and age <= 29):\n",
    "            bmr = 15.057 * (weight) + 692.2 \n",
    "            see = 153\n",
    "        if(age >= 30 and age <= 59):\n",
    "            bmr = 11.472 * (weight) + 873.1 \n",
    "            see = 167\n",
    "        if(age >= 60):\n",
    "            bmr =11.711 * (weight)  + 587.7\n",
    "            see = 164\n",
    "\n",
    "    if(gender == 'f'):        \n",
    "        if(age >= 10 and age <= 17):\n",
    "            bmr = 13.384 * (weight)  + 692.6 \n",
    "            see = 111\n",
    "        if(age >= 18 and age <= 29):\n",
    "            bmr = 14.818 * (weight)  + 486.6 \n",
    "            see = 119\n",
    "        if(age >= 30 and age <= 59):\n",
    "            bmr = 8.126 * (weight)  + 845.6\n",
    "            see = 111\n",
    "        if(age >= 60):\n",
    "            bmr = 9.082 * (weight)  + 658.5\n",
    "            see = 108\n",
    "        \n",
    "    # Body compostion\n",
    "    if(muscle == 'l'):\n",
    "        see = see - see*2\n",
    "    if(muscle == 'm'):\n",
    "        see = see - see*1.5\n",
    "    if(muscle == 'h'):\n",
    "        see = see*.5\n",
    "        \n",
    "    \n",
    "    return round(bmr + see)"
   ]
  },
  {
   "cell_type": "markdown",
   "metadata": {},
   "source": [
    "# My BMR Formula (Average of four)"
   ]
  },
  {
   "cell_type": "code",
   "execution_count": 27,
   "metadata": {
    "collapsed": true
   },
   "outputs": [],
   "source": [
    "def BMRCAL(height, weight, age, gender, weightMs, heightMs, muscle):\n",
    "    \n",
    "    # BMR calculation \n",
    "    hbf = HBbmr(height, weight, age, gender, heightMs, weightMs)\n",
    "    rhbf = RHBbmr(height, weight, age, gender, heightMs, weightMs)\n",
    "    msjf = MSJbmr(height, weight, age, gender, heightMs, weightMs)\n",
    "    sf = Sbmr(weight, age, gender, weightMs, muscle)\n",
    "    \n",
    "    return round((hbf + rhbf + msjf + sf)/ 4)"
   ]
  },
  {
   "cell_type": "markdown",
   "metadata": {},
   "source": [
    "# Physical Actvity Scale (PA Scale)\n",
    "The activity Scale is defined under categories. \n",
    "<br></br>\n",
    "Sedentary.  Little to no regular exercise.  \n",
    "(factor 1.0 - 1.370)\n",
    "<br></br>\n",
    "Mild activity level: Intensive exercise for at least 20 minutes 1 to 3 times per week. This may include such things as bicycling, jogging, basketball, swimming, skating, etc.  If you do not exercise regularly, but you maintain a busy life style that requires you to walk frequently for long periods, you meet the requirements of this level.  \n",
    "(factor 1.375 - 1.50)\n",
    "<br></br>\n",
    "Moderate activity level: Intensive exercise for at least 30 to 60 minutes 3 to 4 times per week. Any of the activities listed above will qualify.    \n",
    "(factor 1.55 - 1.65)\n",
    "<br></br>\n",
    "Heavy or (Labor-intensive) activity level: Intensive exercise for 60 minutes or greater 5 to 7 days per week (see sample activities above).  Labor-intensive occupations also qualify for this level.  Labor-intensive occupations include construction work (brick laying, carpentry, general labor, etc.). Also farming, landscape worker or similar occupations.     \n",
    "(factor 1.7 - 1.85)\n",
    "<br></br>\n",
    "Extreme level: Exceedingly active and/or very demanding activities:  Examples include:  (1) athlete with an almost unstoppable training schedule with multiple training sessions throughout the day  (2) very demanding job, such as shoveling coal or working long hours on an assembly line. Generally, this level of activity is very difficult to achieve.\n",
    "<br></br>\n",
    "(factor 1.9 - 2.5)"
   ]
  },
  {
   "cell_type": "markdown",
   "metadata": {},
   "source": [
    "# The EER Calulator \n",
    "The EER will take into consideration activity level/ Physical activity (PA) and TEF or Thermic effect of food which we defined above as 10%. Each function will apply the Scale factor given by the User differently and also the TEF <br>\n",
    "The PA scale defined above will explain to the user which scale of PA they should use. <br> \n",
    "I'll use the average of three created function formulas to calculate EER. <br></br>\n",
    "<br></br>\n",
    "The first function will just take the PA scale factor given by the user and apllied the same way as the Harris Benedict and Mifflin formulas above did. <br>\n",
    "(bmr x scale factor)<br>\n",
    "The second function will take the PA and apply it the same way the Schofield formula does. <br>\n",
    "(bmr x scale factor)*(gender)<br>\n",
    "The third function will use the Institute of Medicines formulas combined with the PA given by the user.<br>\n",
    "(newFormula x scale factor)<br>"
   ]
  },
  {
   "cell_type": "code",
   "execution_count": 28,
   "metadata": {
    "collapsed": true
   },
   "outputs": [],
   "source": [
    "def HBMeer(bmr, scaleF):\n",
    "    return round((bmr*scaleF)*.90)"
   ]
  },
  {
   "cell_type": "markdown",
   "metadata": {},
   "source": [
    "# Scohfield EER "
   ]
  },
  {
   "cell_type": "code",
   "execution_count": 29,
   "metadata": {
    "collapsed": true
   },
   "outputs": [],
   "source": [
    "def Seer(bmr, scaleF, gender):\n",
    "    \n",
    "    \n",
    "    if(gender == 'f'):\n",
    "        if(scaleF >= 1.0 and scaleF <= 1.5):\n",
    "            scaleF = scaleF*.9375\n",
    "        if(scaleF > 1.5 and scaleF <= 1.65):\n",
    "            scaleF = scaleF*.94\n",
    "        if(scaleF > 1.65 and scaleF <= 1.85):\n",
    "            scaleF = scaleF*.90\n",
    "        if(scaleF > 1.85 and scaleF <= 2.5):\n",
    "            scaleF = scaleF*.91\n",
    "    \n",
    "    return round((bmr*scaleF)*.90)"
   ]
  },
  {
   "cell_type": "markdown",
   "metadata": {},
   "source": [
    "# Institute of Medicines "
   ]
  },
  {
   "cell_type": "code",
   "execution_count": 30,
   "metadata": {
    "collapsed": true
   },
   "outputs": [],
   "source": [
    "def IOMeer(height, weight, age, gender, weightMs, heightMs, scaleF):\n",
    "    \n",
    "    if(heightMs == 'in'):\n",
    "        height = height * 2.54\n",
    "    if(weightMs == 'lbs'):\n",
    "        weight = weight/2.20462\n",
    "    if(heightMs == 'cm'):\n",
    "        height = height/100\n",
    "    \n",
    "    \n",
    "    if(gender == 'm'):\n",
    "        if(age >= 3 and age <= 8):\n",
    "            eer = 88.5 - (61.9 * age) + scaleF * (26.7 * weight) + (903 * height) +20\n",
    "        if(age >= 9 and age <= 18):\n",
    "            eer = 88.5 - (61.9 * age) + scaleF * (26.7 * weight) + (903 * height) + 25\n",
    "        if(age >= 19):\n",
    "            eer = 662 - (9.53 * age ) + scaleF *  (15.91 * weight) + (539.6 * height)\n",
    "                                                  \n",
    "    if(gender == 'f'):\n",
    "        if(age >= 3 and age <= 8):\n",
    "            eer = 135.3 - (30.8 * age) + scaleF * (10.0 * weight ) + (934 * height ) + 20\n",
    "        if(age >= 9 and age <= 18):\n",
    "             eer = 135.3 - (30.8 * age) + scaleF * (10.0 * weight) + (934 * height) + 25\n",
    "        if(age >= 19):\n",
    "            eer = 354 - (6.91 * age) + scaleF * (9.36 * weight) + (726 * height)\n",
    "            \n",
    "    return round(eer*.90)\n",
    "        \n",
    "    \n",
    "    \n",
    "    "
   ]
  },
  {
   "cell_type": "markdown",
   "metadata": {},
   "source": [
    "# My EER Calculator (Average of four)"
   ]
  },
  {
   "cell_type": "code",
   "execution_count": 31,
   "metadata": {
    "collapsed": true
   },
   "outputs": [],
   "source": [
    "def eerCal(height, weight, age, gender, weightMs, heightMs, muscle, scaleF):\n",
    "\n",
    "    hb = HBMeer(BMRCAL(height, weight, age, gender, weightMs, heightMs, muscle), scaleF)\n",
    "    s = Seer(BMRCAL(height, weight, age, gender, weightMs, heightMs, muscle), scaleF, gender)\n",
    "    imo = IOMeer(height, weight, age, gender, weightMs, heightMs, scaleF)\n",
    "    \n",
    "        \n",
    "    return round((hb + s + imo)/3)"
   ]
  },
  {
   "cell_type": "code",
   "execution_count": 32,
   "metadata": {},
   "outputs": [
    {
     "name": "stdout",
     "output_type": "stream",
     "text": [
      "1:  1890\n",
      "2:  1871\n",
      "3:  1782\n",
      "4:  2050\n",
      "5:  1898\n"
     ]
    }
   ],
   "source": [
    "# BMR Functions Test\n",
    "print(\"1: \", HBbmr(173, 80, 21, 'm', 'kg', 'cm'))\n",
    "print(\"2: \", RHBbmr(173, 80, 21, 'm', 'kg', 'cm'))\n",
    "print(\"3: \", MSJbmr(173, 80, 21, 'm', 'kg', 'cm'))\n",
    "print(\"4: \", Sbmr(80, 21, 'm', 'kg', 'vh'))\n",
    "print(\"5: \", BMRCAL(173, 80, 21, 'm', 'kg', 'cm', 'vh'))"
   ]
  },
  {
   "cell_type": "code",
   "execution_count": 33,
   "metadata": {},
   "outputs": [
    {
     "name": "stdout",
     "output_type": "stream",
     "text": [
      "1:  3416\n",
      "2:  3416\n",
      "3:  3547\n",
      "4:  3460\n"
     ]
    }
   ],
   "source": [
    "# EER functions test \n",
    "print('1: ', HBMeer(BMRCAL(173, 80, 21, 'm', 'kg', 'cm', 'vh'), 2.0))\n",
    "print('2: ', Seer(BMRCAL(173, 80, 21, 'm', 'kg', 'cm', 'vh'), 2.0, 'm'))\n",
    "print('3: ', IOMeer(173, 80, 21, 'm', 'kg', 'cm', 2.0))\n",
    "print('4: ', eerCal(173, 80, 21, 'm', 'kg', 'cm', 'vh', 2.0))"
   ]
  },
  {
   "cell_type": "markdown",
   "metadata": {},
   "source": [
    "# BMR Calculation \n",
    "The BMR calculation will need the: <br>\n",
    "Height - (cm/in) <br> \n",
    "Weight - (kg/lbs) <br> \n",
    "Age - (years) <br>\n",
    "Gender - (m/f) <br>\n",
    "Weight - (kg/lbs) in string form <br> \n",
    "Muscle - (l,m,h,vh) <br>\n",
    "The user will enter this info through the use of a drop down menu and and mannual entry. <br>"
   ]
  },
  {
   "cell_type": "code",
   "execution_count": 117,
   "metadata": {
    "scrolled": true
   },
   "outputs": [
    {
     "data": {
      "text/plain": [
       "1898"
      ]
     },
     "execution_count": 117,
     "metadata": {},
     "output_type": "execute_result"
    }
   ],
   "source": [
    "# .E.G.\n",
    "BMRCAL(173, 80, 21, 'm', 'kg', 'cm', 'vh')"
   ]
  },
  {
   "cell_type": "markdown",
   "metadata": {},
   "source": [
    "# EER Calculation \n",
    "The EER calculation will need the: <br>\n",
    "Height - (cm/in) <br> \n",
    "Weight - (kg/lbs) <br> \n",
    "Age - (years) <br>\n",
    "Gender - (m/f) <br>\n",
    "Weight - (kg/lbs) in string form <br> \n",
    "Muscle - (l,m,h,vh) <br>\n",
    "Scale Factor (choosen by the user as defined above) <br>\n",
    "The user will enter this info through the use of a drop down menu and and mannual entry. <br>"
   ]
  },
  {
   "cell_type": "code",
   "execution_count": 118,
   "metadata": {},
   "outputs": [
    {
     "data": {
      "text/plain": [
       "2462"
      ]
     },
     "execution_count": 118,
     "metadata": {},
     "output_type": "execute_result"
    }
   ],
   "source": [
    "# .E.G.\n",
    "eerCal(173, 83, 50, 'm', 'kg', 'cm', 'l', 1.5)"
   ]
  },
  {
   "cell_type": "markdown",
   "metadata": {},
   "source": [
    "# BMI Calculator \n",
    "BMI is a person's weight in kilograms (kg) divided by his or her height in meters squared. The National Institutes of Health (NIH) now defines normal weight, overweight, and obesity according to BMI rather than the traditional height/weight charts. Overweight is a BMI of 27.3 or more for women and 27.8 or more for men."
   ]
  },
  {
   "cell_type": "code",
   "execution_count": 191,
   "metadata": {},
   "outputs": [],
   "source": [
    "def bmiCal(height, weight, heightMs, weightMs):\n",
    "    \n",
    "    if(heightMs == 'in'):\n",
    "        height = height * 2.54\n",
    "    if(weightMs == 'lbs'):\n",
    "        weight = weight/2.20462\n",
    "    \n",
    "    bmi = round(weight/((height/100)**2), 1)\n",
    "    bmiL = []\n",
    "    bmiL.append(bmi)\n",
    "    \n",
    "    \n",
    "    if (bmi <= 16):\n",
    "        bmiL.append('Severe Thinness')\n",
    "        print(bmiL[1], \": Consult Doctor/Nitritionist, consider gaining weight\")\n",
    "    if (bmi >= 16 and bmi <= 17):\n",
    "        bmiL.append('Moderate Thinness')\n",
    "        print(bmiL[1], \": Consider gaining weight\")\n",
    "    if (bmi >= 17 and bmi <= 18.5):\n",
    "        bmiL.append('Mild Thinness')\n",
    "        print(bmiL[1], ': Keep an Eye on your weight')\n",
    "    if (bmi >= 18.5 and bmi <= 25):\n",
    "        bmiL.append('Normal')\n",
    "        print(bmiL[1], \": Within the nomral weight range\")\n",
    "    if (bmi >= 25 and bmi <= 30):\n",
    "        bmiL.append('Overweight')\n",
    "        print(bmiL[1], 'Consider losing weight')\n",
    "    if (bmi >= 30 and bmi <= 35):\n",
    "        bmiL.append('Obese Class 1')\n",
    "        print(bmiL[1], 'Strongly advised losing weight')\n",
    "    if (bmi >= 35 and bmi <= 40):\n",
    "        bmiL.append('Obese Class 2')\n",
    "        print(bmiL[1], 'Consult Doctor/ Nutritionist weight loss needed')\n",
    "    if (bmi >= 40):\n",
    "        bmiL.append('Obese Class 3')\n",
    "        print(bmiL[1], 'Life shortening obesity weight loss crucial')\n",
    "    \n",
    "    return bmiL"
   ]
  },
  {
   "cell_type": "code",
   "execution_count": 192,
   "metadata": {},
   "outputs": [
    {
     "name": "stdout",
     "output_type": "stream",
     "text": [
      "Overweight Consider losing weight\n"
     ]
    },
    {
     "data": {
      "text/plain": [
       "[26.7, 'Overweight']"
      ]
     },
     "execution_count": 192,
     "metadata": {},
     "output_type": "execute_result"
    }
   ],
   "source": [
    "bmiCal(173, 80, 'cm', 'kg')"
   ]
  },
  {
   "cell_type": "markdown",
   "metadata": {
    "collapsed": true
   },
   "source": [
    "# Creating a User Profile "
   ]
  },
  {
   "cell_type": "code",
   "execution_count": 208,
   "metadata": {
    "collapsed": true
   },
   "outputs": [],
   "source": [
    "class User:\n",
    "    \n",
    "    # in order for a user to create a profile we'll need this info off them \n",
    "    def __init__(self, name, ID, height, weight, age, gender, weightMs, heightMs):\n",
    "        # Basic varaibles \n",
    "        self.name = name\n",
    "        self.userID = ID\n",
    "        self.height = height \n",
    "        self.weight = weight \n",
    "        self.age  = age \n",
    "        self.gender = gender \n",
    "        self.weightMs = weightMs\n",
    "        self.heightMs = heightMs\n",
    "        self.foodTDays = {}\n",
    "        \n",
    "        # add a day of eating \n",
    "    def addFoodDay(self, date, dayM):\n",
    "         self.foodTDays[date] = dayM\n",
    "\n",
    "        # get users BMR based on stats \n",
    "    def getBMR(self, muscle):\n",
    "        self.BMR = BMRCAL(self.height, self.weight, self.age, self.gender, self.weightMs, self.heightMs, muscle)\n",
    "        self.muscle = muscle \n",
    "        return self.BMR\n",
    "    \n",
    "        # get users eer based on stats \n",
    "    def getEER(self, scaleF):\n",
    "        self.EER = eerCal(self.height, self.weight, self.age, self.gender, self.weightMs, self.heightMs, self.muscle, scaleF)\n",
    "        self.scaleF = scaleF\n",
    "        return self.EER\n",
    "    \n",
    "    def getBMI(self):\n",
    "        self.BMIL = bmiCal(self.height, self.weight, self.heightMs, self.weightMs)\n",
    "        self.BMI = self.BMIL[0]\n",
    "        return self.BMIL\n",
    "    \n",
    "    # setting users goals to generate macros and in the future weight gain and loss plans \n",
    "    def setGoal(self, goal):\n",
    "        self.goal = goal \n",
    "    \n",
    "    # displaying user stats     \n",
    "    def displayStats(self):\n",
    "        StatDF = pd.DataFrame(columns=['Name', 'Age', 'User ID', 'Height', 'Weight'])\n",
    "        StatDF.loc[0] = np.array([self.name, self.age, self.userID, str(self.height) + self.heightMs, str(self.weight) + self.weightMs])\n",
    "        StatDF = StatDF.set_index('Name').T\n",
    "        self.statDF = StatDF\n",
    "        return self.statDF\n",
    "    \n",
    "    # displaying the days a user has track their food intake \n",
    "    def displayDaysTracked(self):\n",
    "        return self.foodTDays.keys()\n",
    "        \n",
    "    # returning the dictionary containing food days tracked and coresponding dates \n",
    "    def displayFoodTrackDict(self):\n",
    "        return self.foodTDays\n",
    "        "
   ]
  },
  {
   "cell_type": "markdown",
   "metadata": {},
   "source": [
    "# Sample User"
   ]
  },
  {
   "cell_type": "code",
   "execution_count": 209,
   "metadata": {},
   "outputs": [],
   "source": [
    "# Entering Stats\n",
    "user1 = User('Dan Lenehan', 100, 173, 80, 21, 'm', 'kg', 'cm')"
   ]
  },
  {
   "cell_type": "code",
   "execution_count": 210,
   "metadata": {},
   "outputs": [
    {
     "data": {
      "text/html": [
       "<div>\n",
       "<style>\n",
       "    .dataframe thead tr:only-child th {\n",
       "        text-align: right;\n",
       "    }\n",
       "\n",
       "    .dataframe thead th {\n",
       "        text-align: left;\n",
       "    }\n",
       "\n",
       "    .dataframe tbody tr th {\n",
       "        vertical-align: top;\n",
       "    }\n",
       "</style>\n",
       "<table border=\"1\" class=\"dataframe\">\n",
       "  <thead>\n",
       "    <tr style=\"text-align: right;\">\n",
       "      <th>Name</th>\n",
       "      <th>Dan Lenehan</th>\n",
       "    </tr>\n",
       "  </thead>\n",
       "  <tbody>\n",
       "    <tr>\n",
       "      <th>Age</th>\n",
       "      <td>21</td>\n",
       "    </tr>\n",
       "    <tr>\n",
       "      <th>User ID</th>\n",
       "      <td>100</td>\n",
       "    </tr>\n",
       "    <tr>\n",
       "      <th>Height</th>\n",
       "      <td>173cm</td>\n",
       "    </tr>\n",
       "    <tr>\n",
       "      <th>Weight</th>\n",
       "      <td>80kg</td>\n",
       "    </tr>\n",
       "  </tbody>\n",
       "</table>\n",
       "</div>"
      ],
      "text/plain": [
       "Name    Dan Lenehan\n",
       "Age              21\n",
       "User ID         100\n",
       "Height        173cm\n",
       "Weight         80kg"
      ]
     },
     "execution_count": 210,
     "metadata": {},
     "output_type": "execute_result"
    }
   ],
   "source": [
    "# Displaying stats\n",
    "user1.displayStats()"
   ]
  },
  {
   "cell_type": "code",
   "execution_count": 211,
   "metadata": {},
   "outputs": [
    {
     "name": "stdout",
     "output_type": "stream",
     "text": [
      "BMR:  1898\n",
      "EER:  3460\n",
      "Overweight Consider losing weight\n",
      "BMI:  [26.7, 'Overweight']\n"
     ]
    }
   ],
   "source": [
    "# Getting calories entering the users muscle description and Scale factor of daily actvity  \n",
    "print(\"BMR: \", user1.getBMR('vh'))\n",
    "print(\"EER: \", user1.getEER(2))\n",
    "print(\"BMI: \", user1.getBMI())"
   ]
  },
  {
   "cell_type": "code",
   "execution_count": 212,
   "metadata": {
    "collapsed": true
   },
   "outputs": [],
   "source": [
    "# Adding day of eating created in the last notebook \n",
    "user1.addFoodDay(dayTemp.displayDate(), dayTemp)"
   ]
  },
  {
   "cell_type": "code",
   "execution_count": 198,
   "metadata": {},
   "outputs": [
    {
     "data": {
      "text/plain": [
       "dict_keys([datetime.date(2018, 6, 19)])"
      ]
     },
     "execution_count": 198,
     "metadata": {},
     "output_type": "execute_result"
    }
   ],
   "source": [
    "# Days Tracked\n",
    "user1.displayDaysTracked()"
   ]
  },
  {
   "cell_type": "code",
   "execution_count": 199,
   "metadata": {},
   "outputs": [
    {
     "name": "stdout",
     "output_type": "stream",
     "text": [
      "{datetime.date(2018, 6, 19): <__main__.dayM object at 0x000001701EF68908>}\n"
     ]
    }
   ],
   "source": [
    "# The dictionary \n",
    "print(user1.displayFoodTrackDict())"
   ]
  },
  {
   "cell_type": "markdown",
   "metadata": {},
   "source": [
    "# Macro Nutrient Calculation\n",
    "As far as macro nutrients go we have the calories so now we can get macro nutrients to fit these calories. The easiest and best way in my opinion to do this is to get the minium/ most optimal amount of fat and protein calories to achieve certain goals. After we have that the rest of the calories can be from carbs."
   ]
  },
  {
   "cell_type": "code",
   "execution_count": null,
   "metadata": {
    "collapsed": true
   },
   "outputs": [],
   "source": []
  }
 ],
 "metadata": {
  "kernelspec": {
   "display_name": "Python 3",
   "language": "python",
   "name": "python3"
  },
  "language_info": {
   "codemirror_mode": {
    "name": "ipython",
    "version": 3
   },
   "file_extension": ".py",
   "mimetype": "text/x-python",
   "name": "python",
   "nbconvert_exporter": "python",
   "pygments_lexer": "ipython3",
   "version": "3.6.3"
  }
 },
 "nbformat": 4,
 "nbformat_minor": 2
}
